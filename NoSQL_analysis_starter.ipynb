{
 "cells": [
  {
   "cell_type": "markdown",
   "id": "9a57c4c6",
   "metadata": {},
   "source": [
    "# Eat Safe, Love"
   ]
  },
  {
   "cell_type": "markdown",
   "id": "064ef857",
   "metadata": {},
   "source": [
    "## Notebook Set Up"
   ]
  },
  {
   "cell_type": "code",
   "execution_count": 1,
   "id": "3ecdd008",
   "metadata": {},
   "outputs": [],
   "source": [
    "# Import dependencies\n",
    "from pymongo import MongoClient\n",
    "from pprint import pprint"
   ]
  },
  {
   "cell_type": "code",
   "execution_count": 2,
   "id": "59390c4a",
   "metadata": {},
   "outputs": [],
   "source": [
    "# Create an instance of MongoClient\n",
    "mongo = MongoClient(port=27017)"
   ]
  },
  {
   "cell_type": "code",
   "execution_count": 3,
   "id": "71e373c1",
   "metadata": {},
   "outputs": [],
   "source": [
    "# assign the uk_food database to a variable name\n",
    "db = mongo['uk_food']"
   ]
  },
  {
   "cell_type": "code",
   "execution_count": 4,
   "id": "18ab463c",
   "metadata": {},
   "outputs": [
    {
     "name": "stdout",
     "output_type": "stream",
     "text": [
      "['establishments']\n"
     ]
    }
   ],
   "source": [
    "# review the collections in our database\n",
    "print(db.list_collection_names())\n"
   ]
  },
  {
   "cell_type": "code",
   "execution_count": 5,
   "id": "11c9f11b",
   "metadata": {},
   "outputs": [],
   "source": [
    "# assign the collection to a variable\n",
    "establishments = db['establishments']"
   ]
  },
  {
   "cell_type": "markdown",
   "id": "d5671434",
   "metadata": {},
   "source": [
    "## Part 3: Exploratory Analysis\n",
    "Unless otherwise stated, for each question: \n",
    "* Use `count_documents` to display the number of documents contained in the result.\n",
    "* Display the first document in the results using `pprint`.\n",
    "* Convert the result to a Pandas DataFrame, print the number of rows in the DataFrame, and display the first 10 rows."
   ]
  },
  {
   "cell_type": "markdown",
   "id": "314bd884",
   "metadata": {},
   "source": [
    "### 1. Which establishments have a hygiene score equal to 20?"
   ]
  },
  {
   "cell_type": "code",
   "execution_count": 6,
   "id": "c2da7648",
   "metadata": {},
   "outputs": [
    {
     "ename": "IndexError",
     "evalue": "no such item for Cursor instance",
     "output_type": "error",
     "traceback": [
      "\u001b[0;31m---------------------------------------------------------------------------\u001b[0m",
      "\u001b[0;31mIndexError\u001b[0m                                Traceback (most recent call last)",
      "Cell \u001b[0;32mIn[6], line 10\u001b[0m\n\u001b[1;32m      8\u001b[0m \u001b[39m# Display the first document in the results using pprint\u001b[39;00m\n\u001b[1;32m      9\u001b[0m results \u001b[39m=\u001b[39m establishments\u001b[39m.\u001b[39mfind(query)\n\u001b[0;32m---> 10\u001b[0m pprint(results[\u001b[39m0\u001b[39;49m])\n",
      "File \u001b[0;32m~/anaconda3/lib/python3.10/site-packages/pymongo/cursor.py:760\u001b[0m, in \u001b[0;36mCursor.__getitem__\u001b[0;34m(self, index)\u001b[0m\n\u001b[1;32m    758\u001b[0m     \u001b[39mfor\u001b[39;00m doc \u001b[39min\u001b[39;00m clone:\n\u001b[1;32m    759\u001b[0m         \u001b[39mreturn\u001b[39;00m doc\n\u001b[0;32m--> 760\u001b[0m     \u001b[39mraise\u001b[39;00m \u001b[39mIndexError\u001b[39;00m(\u001b[39m\"\u001b[39m\u001b[39mno such item for Cursor instance\u001b[39m\u001b[39m\"\u001b[39m)\n\u001b[1;32m    761\u001b[0m \u001b[39mraise\u001b[39;00m \u001b[39mTypeError\u001b[39;00m(\u001b[39m\"\u001b[39m\u001b[39mindex \u001b[39m\u001b[39m%r\u001b[39;00m\u001b[39m cannot be applied to Cursor instances\u001b[39m\u001b[39m\"\u001b[39m \u001b[39m%\u001b[39m index)\n",
      "\u001b[0;31mIndexError\u001b[0m: no such item for Cursor instance"
     ]
    }
   ],
   "source": [
    "# Find the establishments with a hygiene score of 20\n",
    "query = {'scores.Hygiene': 20}\n",
    "\n",
    "# Use count_documents to display the number of documents in the result\n",
    "\n",
    "establishments.count_documents(query)\n",
    "\n",
    "# Display the first document in the results using pprint\n",
    "results = establishments.find(query)\n",
    "pprint(results[0])"
   ]
  },
  {
   "cell_type": "code",
   "execution_count": 7,
   "id": "a6e5cece",
   "metadata": {},
   "outputs": [
    {
     "ename": "NameError",
     "evalue": "name 'pd' is not defined",
     "output_type": "error",
     "traceback": [
      "\u001b[0;31m---------------------------------------------------------------------------\u001b[0m",
      "\u001b[0;31mNameError\u001b[0m                                 Traceback (most recent call last)",
      "Cell \u001b[0;32mIn[7], line 2\u001b[0m\n\u001b[1;32m      1\u001b[0m \u001b[39m# Convert the result to a Pandas DataFrame\u001b[39;00m\n\u001b[0;32m----> 2\u001b[0m df \u001b[39m=\u001b[39m pd\u001b[39m.\u001b[39mDataFrame(results)\n\u001b[1;32m      3\u001b[0m \u001b[39m# Display the number of rows in the DataFrame\u001b[39;00m\n\u001b[1;32m      4\u001b[0m \u001b[39mprint\u001b[39m(\u001b[39mlen\u001b[39m(df))\n",
      "\u001b[0;31mNameError\u001b[0m: name 'pd' is not defined"
     ]
    }
   ],
   "source": [
    "# Convert the result to a Pandas DataFrame\n",
    "df = pd.DataFrame(results)\n",
    "# Display the number of rows in the DataFrame\n",
    "print(len(df))\n",
    "# Display the first 10 rows of the DataFrame\n",
    "df.head(10)"
   ]
  },
  {
   "cell_type": "markdown",
   "id": "0ef4395a",
   "metadata": {},
   "source": [
    "### 2. Which establishments in London have a `RatingValue` greater than or equal to 4?"
   ]
  },
  {
   "cell_type": "code",
   "execution_count": 8,
   "id": "93c63829",
   "metadata": {},
   "outputs": [
    {
     "ename": "TypeError",
     "evalue": "'Collection' object is not callable. If you meant to call the 'count_docoments' method on a 'Collection' object it is failing because no such method exists.",
     "output_type": "error",
     "traceback": [
      "\u001b[0;31m---------------------------------------------------------------------------\u001b[0m",
      "\u001b[0;31mTypeError\u001b[0m                                 Traceback (most recent call last)",
      "Cell \u001b[0;32mIn[8], line 7\u001b[0m\n\u001b[1;32m      2\u001b[0m query \u001b[39m=\u001b[39m {\u001b[39m'\u001b[39m\u001b[39mLocalAuthorityName\u001b[39m\u001b[39m'\u001b[39m: {\u001b[39m'\u001b[39m\u001b[39m$regex\u001b[39m\u001b[39m'\u001b[39m: \u001b[39m'\u001b[39m\u001b[39mLondon\u001b[39m\u001b[39m'\u001b[39m}, \u001b[39m'\u001b[39m\u001b[39mRatingValue\u001b[39m\u001b[39m'\u001b[39m: {\u001b[39m'\u001b[39m\u001b[39m$gte\u001b[39m\u001b[39m'\u001b[39m: \u001b[39m4\u001b[39m}}\n\u001b[1;32m      5\u001b[0m \u001b[39m# Use count_documents to display the number of documents in the result\u001b[39;00m\n\u001b[0;32m----> 7\u001b[0m establishments\u001b[39m.\u001b[39;49mcount_docoments(query)\n\u001b[1;32m      8\u001b[0m \u001b[39m# Display the first document in the results using pprint\u001b[39;00m\n\u001b[1;32m      9\u001b[0m results \u001b[39m=\u001b[39m establishments\u001b[39m.\u001b[39mfind(query)\n",
      "File \u001b[0;32m~/anaconda3/lib/python3.10/site-packages/pymongo/collection.py:3213\u001b[0m, in \u001b[0;36mCollection.__call__\u001b[0;34m(self, *args, **kwargs)\u001b[0m\n\u001b[1;32m   3206\u001b[0m \u001b[39mif\u001b[39;00m \u001b[39m\"\u001b[39m\u001b[39m.\u001b[39m\u001b[39m\"\u001b[39m \u001b[39mnot\u001b[39;00m \u001b[39min\u001b[39;00m \u001b[39mself\u001b[39m\u001b[39m.\u001b[39m__name:\n\u001b[1;32m   3207\u001b[0m     \u001b[39mraise\u001b[39;00m \u001b[39mTypeError\u001b[39;00m(\n\u001b[1;32m   3208\u001b[0m         \u001b[39m\"\u001b[39m\u001b[39m'\u001b[39m\u001b[39mCollection\u001b[39m\u001b[39m'\u001b[39m\u001b[39m object is not callable. If you \u001b[39m\u001b[39m\"\u001b[39m\n\u001b[1;32m   3209\u001b[0m         \u001b[39m\"\u001b[39m\u001b[39mmeant to call the \u001b[39m\u001b[39m'\u001b[39m\u001b[39m%s\u001b[39;00m\u001b[39m'\u001b[39m\u001b[39m method on a \u001b[39m\u001b[39m'\u001b[39m\u001b[39mDatabase\u001b[39m\u001b[39m'\u001b[39m\u001b[39m \u001b[39m\u001b[39m\"\u001b[39m\n\u001b[1;32m   3210\u001b[0m         \u001b[39m\"\u001b[39m\u001b[39mobject it is failing because no such method \u001b[39m\u001b[39m\"\u001b[39m\n\u001b[1;32m   3211\u001b[0m         \u001b[39m\"\u001b[39m\u001b[39mexists.\u001b[39m\u001b[39m\"\u001b[39m \u001b[39m%\u001b[39m \u001b[39mself\u001b[39m\u001b[39m.\u001b[39m__name\n\u001b[1;32m   3212\u001b[0m     )\n\u001b[0;32m-> 3213\u001b[0m \u001b[39mraise\u001b[39;00m \u001b[39mTypeError\u001b[39;00m(\n\u001b[1;32m   3214\u001b[0m     \u001b[39m\"\u001b[39m\u001b[39m'\u001b[39m\u001b[39mCollection\u001b[39m\u001b[39m'\u001b[39m\u001b[39m object is not callable. If you meant to \u001b[39m\u001b[39m\"\u001b[39m\n\u001b[1;32m   3215\u001b[0m     \u001b[39m\"\u001b[39m\u001b[39mcall the \u001b[39m\u001b[39m'\u001b[39m\u001b[39m%s\u001b[39;00m\u001b[39m'\u001b[39m\u001b[39m method on a \u001b[39m\u001b[39m'\u001b[39m\u001b[39mCollection\u001b[39m\u001b[39m'\u001b[39m\u001b[39m object it is \u001b[39m\u001b[39m\"\u001b[39m\n\u001b[1;32m   3216\u001b[0m     \u001b[39m\"\u001b[39m\u001b[39mfailing because no such method exists.\u001b[39m\u001b[39m\"\u001b[39m \u001b[39m%\u001b[39m \u001b[39mself\u001b[39m\u001b[39m.\u001b[39m__name\u001b[39m.\u001b[39msplit(\u001b[39m\"\u001b[39m\u001b[39m.\u001b[39m\u001b[39m\"\u001b[39m)[\u001b[39m-\u001b[39m\u001b[39m1\u001b[39m]\n\u001b[1;32m   3217\u001b[0m )\n",
      "\u001b[0;31mTypeError\u001b[0m: 'Collection' object is not callable. If you meant to call the 'count_docoments' method on a 'Collection' object it is failing because no such method exists."
     ]
    }
   ],
   "source": [
    "# Find the establishments with London as the Local Authority and has a RatingValue greater than or equal to 4.\n",
    "query = {'LocalAuthorityName': {'$regex': 'London'}, 'RatingValue': {'$gte': 4}}\n",
    "\n",
    "\n",
    "# Use count_documents to display the number of documents in the result\n",
    "\n",
    "establishments.count_docoments(query)\n",
    "# Display the first document in the results using pprint\n",
    "results = establishments.find(query)\n",
    "pprint(results[0])"
   ]
  },
  {
   "cell_type": "code",
   "execution_count": null,
   "id": "07e24ccb",
   "metadata": {},
   "outputs": [],
   "source": [
    "# Convert the result to a Pandas DataFrame\n",
    "df = pd.DataFrame(results)\n",
    "# Display the number of rows in the DataFrame\n",
    "print(len(df))\n",
    "# Display the first 10 rows of the DataFrame\n",
    "df.head(10)"
   ]
  },
  {
   "attachments": {},
   "cell_type": "markdown",
   "id": "4e570caf",
   "metadata": {},
   "source": [
    "### 3. What are the top 5 establishments with a `RatingValue` rating value of 5, sorted by lowest hygiene score, nearest to the new restaurant added, \"Penang Flavours\"?"
   ]
  },
  {
   "cell_type": "code",
   "execution_count": 9,
   "id": "7f599f3d",
   "metadata": {},
   "outputs": [
    {
     "ename": "IndentationError",
     "evalue": "unexpected indent (836474853.py, line 9)",
     "output_type": "error",
     "traceback": [
      "\u001b[0;36m  Cell \u001b[0;32mIn[9], line 9\u001b[0;36m\u001b[0m\n\u001b[0;31m    query = {'geocode.latitude': {'$gte': latitude-degree_search,'$lte': latitude+degree_search},\u001b[0m\n\u001b[0m    ^\u001b[0m\n\u001b[0;31mIndentationError\u001b[0m\u001b[0;31m:\u001b[0m unexpected indent\n"
     ]
    }
   ],
   "source": [
    "# Search within 0.01 degree on either side of the latitude and longitude.\n",
    "# Rating value must equal 5\n",
    "# Sort by hygiene score\n",
    "\n",
    "degree_search = 0.01\n",
    "latitude = 51.49014200\n",
    "longitude = 0.08384000\n",
    "\n",
    " query = {'geocode.latitude': {'$gte': latitude-degree_search,'$lte': latitude+degree_search},\n",
    " 'geocode.longitude': {'$gte': longitude-degree_search,'$lte': longitude+degree_search}, 'RatingValue': 5}\n",
    "sort =  [('score.Hygiene', 1)]\n",
    "limit = 5\n",
    "\n",
    "# Print the results\n",
    "pprint(list(establishments.find(query).sort(sort).limit(limit)))\n"
   ]
  },
  {
   "cell_type": "code",
   "execution_count": null,
   "id": "a6ad16f7",
   "metadata": {},
   "outputs": [],
   "source": [
    "# Convert result to Pandas DataFrame\n",
    "df = pd.DataFrame(establishments.find(query).sort(sort).limit(limit))\n",
    "df"
   ]
  },
  {
   "cell_type": "markdown",
   "id": "67281254",
   "metadata": {},
   "source": [
    "### 4. How many establishments in each Local Authority area have a hygiene score of 0?"
   ]
  },
  {
   "cell_type": "code",
   "execution_count": null,
   "id": "4eeb227e",
   "metadata": {},
   "outputs": [],
   "source": [
    "# Create a pipeline that: \n",
    "# 1. Matches establishments with a hygiene score of 0\n",
    "# 2. Groups the matches by Local Authority\n",
    "# 3. Sorts the matches from highest to lowest\n",
    "\n",
    "pipeline = [{'$match': {'scores.Hygiene': 0}}, \n",
    " {'$group': {'_id': '$LocalAuthorityName', 'count': {'$sum': 1}}},\n",
    " {'$sort': {'count': -1}}\n",
    "]\n",
    "\n",
    "# Print the number of documents in the result\n",
    "results = list(establishments.aggregate(pipeline))\n",
    "print(len(results))\n",
    "# Print the first 10 results\n",
    "pprint(results[0:10])"
   ]
  },
  {
   "cell_type": "code",
   "execution_count": null,
   "id": "d8aab364",
   "metadata": {},
   "outputs": [],
   "source": [
    "# Convert the result to a Pandas DataFrame\n",
    "df = pd.DataFrame(results)\n",
    "# Display the number of rows in the DataFrame\n",
    "print(len(df))\n",
    "# Display the first 10 rows of the DataFrame\n",
    "df.head(10)"
   ]
  }
 ],
 "metadata": {
  "kernelspec": {
   "display_name": "Python 3 (ipykernel)",
   "language": "python",
   "name": "python3"
  },
  "language_info": {
   "codemirror_mode": {
    "name": "ipython",
    "version": 3
   },
   "file_extension": ".py",
   "mimetype": "text/x-python",
   "name": "python",
   "nbconvert_exporter": "python",
   "pygments_lexer": "ipython3",
   "version": "3.10.9"
  }
 },
 "nbformat": 4,
 "nbformat_minor": 5
}
